{
  "nbformat": 4,
  "nbformat_minor": 0,
  "metadata": {
    "colab": {
      "provenance": [],
      "authorship_tag": "ABX9TyMGvMLTZrT8xZljaKUx2ql3",
      "include_colab_link": true
    },
    "kernelspec": {
      "name": "python3",
      "display_name": "Python 3"
    },
    "language_info": {
      "name": "python"
    }
  },
  "cells": [
    {
      "cell_type": "markdown",
      "metadata": {
        "id": "view-in-github",
        "colab_type": "text"
      },
      "source": [
        "<a href=\"https://colab.research.google.com/github/AjayBora002/anime_recommendation/blob/main/anime_recommendation_system.ipynb\" target=\"_parent\"><img src=\"https://colab.research.google.com/assets/colab-badge.svg\" alt=\"Open In Colab\"/></a>"
      ]
    },
    {
      "cell_type": "markdown",
      "source": [
        "1. IMPORTING NECESSARY LIBRARIES"
      ],
      "metadata": {
        "id": "RmQWAwC06sIB"
      }
    },
    {
      "cell_type": "code",
      "execution_count": null,
      "metadata": {
        "id": "jkmdEo7q6qv1"
      },
      "outputs": [],
      "source": [
        "import pandas as pd\n",
        "import numpy as np\n",
        "import re\n",
        "import nltk"
      ]
    },
    {
      "cell_type": "code",
      "source": [
        "anime = pd.read_csv('https://raw.githubusercontent.com/AjayBora002/anime_recommendation/refs/heads/main/anime.csv')\n",
        "\n"
      ],
      "metadata": {
        "id": "sP0cfP8M67bH"
      },
      "execution_count": null,
      "outputs": []
    },
    {
      "cell_type": "code",
      "source": [
        "def clean_title(title):\n",
        "    return re.sub(r'[^a-zA-Z0-9 ]', '', title.lower()).strip()\n",
        "\n",
        "# Now apply the clean_title function"
      ],
      "metadata": {
        "id": "p-XPGphV785K"
      },
      "execution_count": null,
      "outputs": []
    },
    {
      "cell_type": "code",
      "source": [
        "anime[\"clean_title\"]=anime[\"name\"].apply(clean_title)# this will access a new clean title column\n",
        "anime[\"clean_synopsis\"] = anime[\"Synopsis\"].astype(str).apply(clean_title)\n",
        "anime[\"genre\"] = anime[\"genre\"].fillna(\"\").apply(clean_title)\n"
      ],
      "metadata": {
        "id": "as4U1bEXqJJw"
      },
      "execution_count": null,
      "outputs": []
    },
    {
      "cell_type": "markdown",
      "source": [],
      "metadata": {
        "id": "InmnpPb5MTbG"
      }
    },
    {
      "cell_type": "markdown",
      "source": [
        "COMBING TITLE , GENRE AND SYONOSIS"
      ],
      "metadata": {
        "id": "Jdto3nsaM1ya"
      }
    },
    {
      "cell_type": "code",
      "source": [
        "from sklearn.feature_extraction.text import TfidfVectorizer\n",
        "\n",
        "# Combine text fields\n",
        "anime[\"combined\"] = anime[\"clean_title\"] + \" \" + anime[\"genre\"] + \" \" + anime[\"clean_synopsis\"]\n",
        "\n",
        "# Vectorize\n",
        "vectorizer = TfidfVectorizer(ngram_range=(1, 2),min_df=1)\n",
        "tfidf = vectorizer.fit_transform(anime[\"combined\"])\n"
      ],
      "metadata": {
        "id": "NA4ccMCHaw8V"
      },
      "execution_count": null,
      "outputs": []
    },
    {
      "cell_type": "code",
      "source": [
        "from sklearn.metrics.pairwise import cosine_similarity\n",
        "import numpy as np\n",
        "def clean_input(title):\n",
        "    return clean_title(title)\n",
        "\n",
        "\n",
        "def search(title):\n",
        "    title = clean_title(title)  # clean the input title\n",
        "    query_vec = vectorizer.transform([title])  # vectorize it\n",
        "    similarity = cosine_similarity(query_vec, tfidf).flatten()\n",
        "\n",
        "    indices = np.argpartition(similarity, -5)[-5:]\n",
        "    results = anime.iloc[indices].iloc[::-1]\n",
        "    return results\n"
      ],
      "metadata": {
        "id": "_k9sK6twNIaE"
      },
      "execution_count": null,
      "outputs": []
    },
    {
      "cell_type": "markdown",
      "source": [
        "CREATING AN INTERACTIVE BOX FOR INPUT AND OUTPUT"
      ],
      "metadata": {
        "id": "px8OWN3_IJDH"
      }
    },
    {
      "cell_type": "code",
      "source": [
        "import ipywidgets as widgets\n",
        "from IPython.display import display  # function used to show diiff things as output on notebook\n",
        "\n",
        "\n",
        "anime_input = widgets.Text(    # creating a widget\n",
        "    value='Cowboy Bebop',\n",
        "    description = \"Movie Title :\",  # movie titled will be entered here\n",
        "    disabled=False   # it will be enabled\n",
        ")\n",
        "\n",
        "\n",
        "# this whole thing will create a box to enter movie title , but wont show anything as output\n",
        "  #NOW MAKING AN OUTPUT WIDGET\n",
        "anime_list = widgets.Output()\n",
        "\n",
        "def on_type(data):     # this fun will be called whenever we type something in the box\n",
        "  with anime_list:\n",
        "    anime_list.clear_output()\n",
        "\n",
        "    title=data[\"new\"]\n",
        "    if len(title)>5:\n",
        "      display(search(title))\n",
        "\n",
        "anime_input.observe(on_type, names='value')  # there are diff events of the widgets whenever we input a movie name it is going to call on type and gives value event\n",
        "display(anime_input, anime_list)\n",
        "\n"
      ],
      "metadata": {
        "id": "i0XK6jGAukH2"
      },
      "execution_count": null,
      "outputs": []
    },
    {
      "cell_type": "code",
      "source": [
        "ratings=pd.read_csv(\"https://raw.githubusercontent.com/AjayBora002/anime_recommendation/refs/heads/main/rating.csv\")\n",
        "ratings.dtypes"
      ],
      "metadata": {
        "id": "mJu5LK-7NrMv"
      },
      "execution_count": null,
      "outputs": []
    },
    {
      "cell_type": "markdown",
      "source": [
        "FINDING SIMILAR USERS ON THE BASIS OF RATINGS"
      ],
      "metadata": {
        "id": "9bOomQUeZGkL"
      }
    },
    {
      "cell_type": "code",
      "source": [
        "animeid=1"
      ],
      "metadata": {
        "id": "BhQ1bvmNZA9H"
      },
      "execution_count": null,
      "outputs": []
    },
    {
      "cell_type": "code",
      "source": [
        "similar_users= ratings[(ratings[\"anime_id\"] == animeid) & (ratings[\"rating\"] > 4)][\"user_id\"].unique()\n",
        "\n",
        "similar_user_recs = ratings[(ratings[\"user_id\"].isin(similar_users)) & (ratings[\"rating\"] > 4)][\"anime_id\"]\n",
        "# this will show the movies that are rated by similar users and find their used ids"
      ],
      "metadata": {
        "id": "GoQQAvA4ZEfg"
      },
      "execution_count": null,
      "outputs": []
    },
    {
      "cell_type": "code",
      "source": [
        "similar_user_recs=similar_user_recs.value_counts()/len(similar_users) # this counts the no of 5 rates is given to a movie and then div by len shows recommending percent like top one has 100%\n",
        "\n",
        "# we are doing this to find per of similar people who watched the movie\n",
        "similar_user_recs = similar_user_recs[similar_user_recs > .10]  # shows movies having per greater than 10 %"
      ],
      "metadata": {
        "id": "LVHOsHITb6mJ"
      },
      "execution_count": null,
      "outputs": []
    },
    {
      "cell_type": "code",
      "source": [
        "all_users=ratings[(ratings)[\"anime_id\"].isin(similar_user_recs.index) & (ratings[\"rating\"]>4)]\n",
        "all_users_recs=all_users[\"anime_id\"].value_counts()/len(all_users[\"user_id\"].unique())# this will give us percentage of all the users who liked the movies"
      ],
      "metadata": {
        "id": "Xn0sths4cKIi"
      },
      "execution_count": null,
      "outputs": []
    },
    {
      "cell_type": "code",
      "source": [
        "rec_percentages=pd.concat([similar_user_recs,all_users_recs],axis=1)# this concatenates the data of how much similar people to us liked and how much avg person liked it\n",
        "rec_percentages.columns=[\"similar\",\"all\"]"
      ],
      "metadata": {
        "id": "11XKCGepceqy"
      },
      "execution_count": null,
      "outputs": []
    },
    {
      "cell_type": "code",
      "source": [
        "rec_percentages[\"score\"]=rec_percentages[\"similar\"]/rec_percentages[\"all\"]\n",
        "rec_percentages=rec_percentages.sort_values(\"score\",ascending=False)   # using pandas sort method to make an order of the score the higher the score more good will be the recommendation\n",
        "rec_percentages"
      ],
      "metadata": {
        "id": "Eu_GKDJzdzxs"
      },
      "execution_count": null,
      "outputs": []
    },
    {
      "cell_type": "code",
      "source": [
        "rec_percentages.head(10).merge(anime,left_index=True,right_on=\"anime_id\")"
      ],
      "metadata": {
        "id": "UIWkCMwld86T"
      },
      "execution_count": null,
      "outputs": []
    },
    {
      "cell_type": "code",
      "source": [
        "def find_similar_anime(animeid):\n",
        "\n",
        "    similar_users = ratings[(ratings[\"anime_id\"] == animeid)\n",
        "    & (ratings[\"rating\"] > 4)][\"user_id\"].unique()\n",
        "    similar_user_recs = ratings[(ratings[\"user_id\"].isin(similar_users)) # this is finding recommendation similar to us\n",
        "    & (ratings[\"rating\"] > 4)][\"anime_id\"]\n",
        "\n",
        "    similar_user_recs = similar_user_recs.value_counts() / len(similar_users)# adjusting the per of recommendation\n",
        "    similar_user_recs = similar_user_recs[similar_user_recs > .10]\n",
        "\n",
        "    all_users = ratings[(ratings[\"anime_id\"].isin(similar_user_recs.index)) & (ratings[\"rating\"] > 4)]# this is finding common recommendation among all of the users\n",
        "    all_user_recs = all_users[\"anime_id\"].value_counts() / len(all_users[\"user_id\"].unique())\n",
        "\n",
        "    rec_percentages = pd.concat([similar_user_recs, all_user_recs], axis=1)# concatinating\n",
        "    rec_percentages.columns = [\"similar\", \"all\"]\n",
        "\n",
        "    rec_percentages[\"score\"] = rec_percentages[\"similar\"] / rec_percentages[\"all\"]# generating score\n",
        "\n",
        "    rec_percentages=rec_percentages.sort_values(\"score\", ascending=False)\n",
        "    return rec_percentages.head(10).merge(anime, left_index=True, right_on=\"anime_id\")[[\"score\", \"name\", \"genre\",\"episodes\"]]  #sorting and returning our merge data"
      ],
      "metadata": {
        "id": "Q2VtameRek0i"
      },
      "execution_count": null,
      "outputs": []
    },
    {
      "cell_type": "code",
      "source": [
        "anime_name_input = widgets.Text(    # creating a widget\n",
        "    value='Cowboy Bebop',\n",
        "    description = \"Movie Title :\",  # anime title will be entered here\n",
        "    disabled=False   # it will be enabled\n",
        ")\n",
        "\n",
        "recommendation_list=widgets.Output()\n",
        "\n",
        "def on_type(data):\n",
        "  with recommendation_list:\n",
        "    recommendation_list.clear_output()# removes old output\n",
        "    title=data[\"new\"]\n",
        "    if len(title)>5:\n",
        "      results=search(title)\n",
        "      animeid=results.iloc[0][\"anime_id\"]\n",
        "      display(find_similar_anime(animeid))\n",
        "\n",
        "anime_name_input.observe(on_type,names=\"value\")\n",
        "display(anime_name_input, recommendation_list)"
      ],
      "metadata": {
        "id": "03OK15d-feAX"
      },
      "execution_count": null,
      "outputs": []
    }
  ]
}